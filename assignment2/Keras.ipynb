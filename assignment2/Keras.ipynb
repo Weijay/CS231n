{
 "cells": [
  {
   "cell_type": "markdown",
   "metadata": {},
   "source": [
    "# Load CIFAR10 DataSets"
   ]
  },
  {
   "cell_type": "code",
   "execution_count": 1,
   "metadata": {},
   "outputs": [
    {
     "name": "stderr",
     "output_type": "stream",
     "text": [
      "Using TensorFlow backend.\n"
     ]
    }
   ],
   "source": [
    "import tensorflow as tf\n",
    "import numpy as np\n",
    "import matplotlib.pyplot as plt\n",
    "\n",
    "from keras.models import Sequential\n",
    "from keras.utils import to_categorical\n",
    "from keras.layers import Dense, Dropout, Activation, Flatten, BatchNormalization\n",
    "from keras.layers import Conv2D, MaxPooling2D\n",
    "from keras.optimizers import Adam, rmsprop\n",
    "from keras.preprocessing.image import ImageDataGenerator\n",
    "\n",
    "\n",
    "%matplotlib inline"
   ]
  },
  {
   "cell_type": "code",
   "execution_count": 2,
   "metadata": {},
   "outputs": [
    {
     "name": "stdout",
     "output_type": "stream",
     "text": [
      "Train data shape:  (49000, 32, 32, 3)\n",
      "Train labels shape:  (49000,)\n",
      "Validation data shape:  (1000, 32, 32, 3)\n",
      "Validation labels shape:  (1000,)\n",
      "Test data shape:  (10000, 32, 32, 3)\n",
      "Test labels shape:  (10000,)\n"
     ]
    }
   ],
   "source": [
    "from cs231n.data_utils import load_CIFAR10\n",
    "\n",
    "def get_CIFAR10_data(num_training=49000, num_validation=1000, num_test=10000):\n",
    "    \"\"\"\n",
    "    Load the CIFAR-10 dataset from disk and perform preprocessing to prepare\n",
    "    it for the neural net classifier.\n",
    "    \"\"\"\n",
    "    # Load the raw CIFAR-10 data\n",
    "    cifar10_dir = 'cs231n/datasets/cifar-10-batches-py'\n",
    "    X_train, y_train, X_test, y_test = load_CIFAR10(cifar10_dir)\n",
    "\n",
    "    # Subsample the data\n",
    "    mask = range(num_training, num_training + num_validation)\n",
    "    X_val = X_train[mask]\n",
    "    y_val = y_train[mask]\n",
    "    mask = range(num_training)\n",
    "    X_train = X_train[mask]\n",
    "    y_train = y_train[mask]\n",
    "    mask = range(num_test)\n",
    "    X_test = X_test[mask]\n",
    "    y_test = y_test[mask]\n",
    "\n",
    "    # Normalize the data: subtract the mean image\n",
    "    mean_image = np.mean(X_train, axis=0)\n",
    "    X_train -= mean_image\n",
    "    X_val -= mean_image\n",
    "    X_test -= mean_image\n",
    "\n",
    "    return X_train, y_train, X_val, y_val, X_test, y_test\n",
    "\n",
    "\n",
    "# Invoke the above function to get our data.\n",
    "X_train, y_train, X_val, y_val, X_test, y_test = get_CIFAR10_data()\n",
    "print('Train data shape: ', X_train.shape)\n",
    "print('Train labels shape: ', y_train.shape)\n",
    "print('Validation data shape: ', X_val.shape)\n",
    "print('Validation labels shape: ', y_val.shape)\n",
    "print('Test data shape: ', X_test.shape)\n",
    "print('Test labels shape: ', y_test.shape)\n",
    "\n",
    "## One_hot API in Keras.utils: to_categorical \n",
    "# def one_hot(y):\n",
    "#     y_tmp = np.zeros((y.shape[0], 10))\n",
    "#     y_tmp[np.arange(y.shape[0]), y] = 1\n",
    "#     return y_tmp\n",
    "\n",
    "# y_train_onehot = one_hot(y_train)\n",
    "# y_val_onehot = one_hot(y_val)\n",
    "# y_test_onehot = one_hot(y_test)\n"
   ]
  },
  {
   "cell_type": "markdown",
   "metadata": {},
   "source": [
    "# Keras Model"
   ]
  },
  {
   "cell_type": "code",
   "execution_count": 3,
   "metadata": {},
   "outputs": [
    {
     "name": "stdout",
     "output_type": "stream",
     "text": [
      "_________________________________________________________________\n",
      "Layer (type)                 Output Shape              Param #   \n",
      "=================================================================\n",
      "conv2d_1 (Conv2D)            (None, 32, 32, 32)        896       \n",
      "_________________________________________________________________\n",
      "batch_normalization_1 (Batch (None, 32, 32, 32)        128       \n",
      "_________________________________________________________________\n",
      "conv2d_2 (Conv2D)            (None, 32, 32, 32)        9248      \n",
      "_________________________________________________________________\n",
      "batch_normalization_2 (Batch (None, 32, 32, 32)        128       \n",
      "_________________________________________________________________\n",
      "max_pooling2d_1 (MaxPooling2 (None, 16, 16, 32)        0         \n",
      "_________________________________________________________________\n",
      "conv2d_3 (Conv2D)            (None, 16, 16, 64)        18496     \n",
      "_________________________________________________________________\n",
      "batch_normalization_3 (Batch (None, 16, 16, 64)        256       \n",
      "_________________________________________________________________\n",
      "conv2d_4 (Conv2D)            (None, 16, 16, 64)        36928     \n",
      "_________________________________________________________________\n",
      "batch_normalization_4 (Batch (None, 16, 16, 64)        256       \n",
      "_________________________________________________________________\n",
      "max_pooling2d_2 (MaxPooling2 (None, 8, 8, 64)          0         \n",
      "_________________________________________________________________\n",
      "conv2d_5 (Conv2D)            (None, 8, 8, 128)         73856     \n",
      "_________________________________________________________________\n",
      "batch_normalization_5 (Batch (None, 8, 8, 128)         512       \n",
      "_________________________________________________________________\n",
      "conv2d_6 (Conv2D)            (None, 8, 8, 128)         147584    \n",
      "_________________________________________________________________\n",
      "batch_normalization_6 (Batch (None, 8, 8, 128)         512       \n",
      "_________________________________________________________________\n",
      "max_pooling2d_3 (MaxPooling2 (None, 4, 4, 128)         0         \n",
      "_________________________________________________________________\n",
      "flatten_1 (Flatten)          (None, 2048)              0         \n",
      "_________________________________________________________________\n",
      "dense_1 (Dense)              (None, 1024)              2098176   \n",
      "_________________________________________________________________\n",
      "batch_normalization_7 (Batch (None, 1024)              4096      \n",
      "_________________________________________________________________\n",
      "dropout_1 (Dropout)          (None, 1024)              0         \n",
      "_________________________________________________________________\n",
      "dense_2 (Dense)              (None, 1024)              1049600   \n",
      "_________________________________________________________________\n",
      "batch_normalization_8 (Batch (None, 1024)              4096      \n",
      "_________________________________________________________________\n",
      "dropout_2 (Dropout)          (None, 1024)              0         \n",
      "_________________________________________________________________\n",
      "dense_3 (Dense)              (None, 10)                10250     \n",
      "=================================================================\n",
      "Total params: 3,455,018\n",
      "Trainable params: 3,450,026\n",
      "Non-trainable params: 4,992\n",
      "_________________________________________________________________\n"
     ]
    }
   ],
   "source": [
    "\"\"\"\"\"\"\n",
    "num_classes = 10\n",
    "\n",
    "# one-hot\n",
    "y_train_categorical = to_categorical(y_train, num_classes)\n",
    "y_val_categorical = to_categorical(y_val, num_classes)\n",
    "y_test_categorical = to_categorical(y_test, num_classes)\n",
    "\n",
    "# data for training \n",
    "X = X_train\n",
    "y = y_train_categorical\n",
    "\n",
    "\"\"\"\"\"\"\n",
    "\n",
    "model = Sequential()\n",
    "\n",
    "model.add(Conv2D(32, (3,3), padding='same', activation='relu', input_shape=X.shape[1:]))\n",
    "model.add(BatchNormalization())\n",
    "model.add(Conv2D(32, (3,3), padding='same', activation='relu'))\n",
    "model.add(BatchNormalization())\n",
    "model.add(MaxPooling2D())\n",
    "\n",
    "\n",
    "model.add(Conv2D(64, (3,3), padding='same', activation='relu'))\n",
    "model.add(BatchNormalization())\n",
    "model.add(Conv2D(64, (3,3), padding='same', activation='relu'))\n",
    "model.add(BatchNormalization())\n",
    "model.add(MaxPooling2D())\n",
    "\n",
    "model.add(Conv2D(128, (3,3), padding='same', activation='relu'))\n",
    "model.add(BatchNormalization())\n",
    "model.add(Conv2D(128, (3,3), padding='same', activation='relu'))\n",
    "model.add(BatchNormalization())\n",
    "model.add(MaxPooling2D())\n",
    "\n",
    "model.add(Flatten())\n",
    "\n",
    "# fc1\n",
    "model.add(Dense(1024, activation='relu'))\n",
    "model.add(BatchNormalization())\n",
    "model.add(Dropout(0.5))\n",
    "\n",
    "# fc2\n",
    "model.add(Dense(1024, activation='relu'))\n",
    "model.add(BatchNormalization())\n",
    "model.add(Dropout(0.5))\n",
    "\n",
    "# fc3 + softmax\n",
    "model.add(Dense(num_classes, activation='softmax'))\n",
    "\n",
    "\n",
    "model.summary()\n",
    "\n",
    "    "
   ]
  },
  {
   "cell_type": "code",
   "execution_count": 4,
   "metadata": {
    "collapsed": true
   },
   "outputs": [],
   "source": [
    "# Data Augmentation\n",
    "datagen = ImageDataGenerator(\n",
    "    featurewise_center=False,\n",
    "    samplewise_center=False,\n",
    "    featurewise_std_normalization=False,\n",
    "    samplewise_std_normalization=False,\n",
    "    zca_whitening=False,\n",
    "    rotation_range=15,\n",
    "    width_shift_range=0.1,\n",
    "    height_shift_range=0.1,\n",
    "    horizontal_flip=True,\n",
    "    vertical_flip=False\n",
    "    )\n",
    "\n",
    "datagen.fit(X)"
   ]
  },
  {
   "cell_type": "code",
   "execution_count": 5,
   "metadata": {},
   "outputs": [
    {
     "name": "stdout",
     "output_type": "stream",
     "text": [
      "Epoch 1/10\n",
      "765/765 [==============================] - 698s - loss: 2.0466 - acc: 0.3745 - val_loss: 1.3125 - val_acc: 0.5420\n",
      "Epoch 2/10\n",
      "765/765 [==============================] - 945s - loss: 1.4448 - acc: 0.5021 - val_loss: 1.0679 - val_acc: 0.6120\n",
      "Epoch 3/10\n",
      "765/765 [==============================] - 885s - loss: 1.2060 - acc: 0.5769 - val_loss: 0.9100 - val_acc: 0.6680\n",
      "Epoch 4/10\n",
      "765/765 [==============================] - 888s - loss: 1.0652 - acc: 0.6220 - val_loss: 0.8094 - val_acc: 0.7230\n",
      "Epoch 5/10\n",
      "765/765 [==============================] - 966s - loss: 0.9693 - acc: 0.6574 - val_loss: 0.7367 - val_acc: 0.7430\n",
      "Epoch 6/10\n",
      "765/765 [==============================] - 789s - loss: 0.8906 - acc: 0.6856 - val_loss: 0.7181 - val_acc: 0.7460\n",
      "Epoch 7/10\n",
      "765/765 [==============================] - 918s - loss: 0.8316 - acc: 0.7079 - val_loss: 0.6329 - val_acc: 0.7990\n",
      "Epoch 8/10\n",
      "765/765 [==============================] - 1203s - loss: 0.7835 - acc: 0.7281 - val_loss: 0.6233 - val_acc: 0.7950\n",
      "Epoch 9/10\n",
      "765/765 [==============================] - 741s - loss: 0.7381 - acc: 0.7413 - val_loss: 0.5696 - val_acc: 0.8090\n",
      "Epoch 10/10\n",
      "765/765 [==============================] - 779s - loss: 0.7033 - acc: 0.7530 - val_loss: 0.5218 - val_acc: 0.8250\n"
     ]
    }
   ],
   "source": [
    "# Compile the model\n",
    "model.compile(optimizer=Adam(3e-4), loss='categorical_crossentropy', metrics=['accuracy'])\n",
    "\n",
    "batch_size = 64\n",
    "epoch = 10\n",
    "\n",
    "# Training with data augmentation\n",
    "history = model.fit_generator(datagen.flow(X, y, batch_size=batch_size),\n",
    "                    steps_per_epoch=X.shape[0] // batch_size,\n",
    "                    epochs=epoch,\n",
    "                    verbose=1,\n",
    "                    validation_data=(X_val,y_val_categorical))\n",
    "\n",
    "\n",
    "# Training\n",
    "# history = model.fit(X, y, batch_size=64, epochs=10, validation_data=(X_val, y_val_categorical))\n"
   ]
  },
  {
   "cell_type": "code",
   "execution_count": 6,
   "metadata": {},
   "outputs": [
    {
     "data": {
      "image/png": "[encoded data removed]",
      "text/plain": [
       "<matplotlib.figure.Figure at 0x19d8ef0b8>"
      ]
     },
     "metadata": {},
     "output_type": "display_data"
    },
    {
     "data": {
      "image/png": "[encoded data removed]",
      "text/plain": [
       "<matplotlib.figure.Figure at 0x19ddd1ba8>"
      ]
     },
     "metadata": {},
     "output_type": "display_data"
    }
   ],
   "source": [
    "def plot_history(model_history):\n",
    "    # summarize history for loss\n",
    "    plt.plot(history.history['loss'])\n",
    "    plt.plot(history.history['val_loss'])\n",
    "    plt.title('model loss')\n",
    "    plt.ylabel('loss')\n",
    "    plt.xlabel('epoch')\n",
    "    plt.legend(['train', 'val'], loc='upper left')\n",
    "    plt.show()\n",
    "    # summarize history for accuracy\n",
    "    plt.plot(history.history['acc'], '-o')\n",
    "    plt.plot(history.history['val_acc'], '-o')\n",
    "    plt.title('model accuracy')\n",
    "    plt.ylabel('accuracy')\n",
    "    plt.xlabel('epoch')\n",
    "    plt.legend(['train', 'val'], loc='upper left')\n",
    "    plt.show()\n",
    "    \n",
    "# Visualize my data  \n",
    "plot_history(history)"
   ]
  },
  {
   "cell_type": "code",
   "execution_count": 7,
   "metadata": {},
   "outputs": [
    {
     "name": "stdout",
     "output_type": "stream",
     "text": [
      "10000/10000 [==============================] - 54s    \n",
      "Loss: 0.574\n",
      "Accuracy: 0.802\n"
     ]
    }
   ],
   "source": [
    "# Evaluate the model\n",
    "scores = model.evaluate(X_test, y_test_categorical)\n",
    "\n",
    "print('Loss: %.3f' % scores[0])\n",
    "print('Accuracy: %.3f' % scores[1])"
   ]
  },
  {
   "cell_type": "markdown",
   "metadata": {
    "collapsed": true
   },
   "source": [
    "### Describe what you did here\n",
    "In this cell you should also write an explanation of what you did, any additional features that you implemented, and any visualizations or graphs that you make in the process of training and evaluating your network"
   ]
  },
  {
   "cell_type": "markdown",
   "metadata": {
    "collapsed": true
   },
   "source": [
    "Try with **VGGNet**-like deep convolutional network using Keras.\n",
    "> + Network architecture: **[conv-conv-pool]x3 -> [affine-dropout]x2 -> [affine-softmax]**\n",
    "  \n",
    "> + **Data augmentation**\n",
    "\n",
    "> + **Batch normalization**\n",
    "\n",
    "> + **Dropout**\n"
   ]
  },
  {
   "cell_type": "markdown",
   "metadata": {},
   "source": [
    "# Save Model \n",
    "You can save your **model** and **weights** using Keras API. It's really **HELPFUL** for you to reuse the model you trained!! 👍👍\n"
   ]
  },
  {
   "cell_type": "code",
   "execution_count": 8,
   "metadata": {},
   "outputs": [
    {
     "name": "stdout",
     "output_type": "stream",
     "text": [
      "Saved keras_model to disk\n"
     ]
    }
   ],
   "source": [
    "# serialize model to JSON\n",
    "model_json = model.to_json()\n",
    "with open(\"keras_model.json\", \"w\") as json_file:\n",
    "    json_file.write(model_json)\n",
    "    \n",
    "# serialize weights to HDF5\n",
    "model.save_weights(\"keras_model.h5\")\n",
    "print(\"Saved keras_model to disk\")"
   ]
  },
  {
   "cell_type": "markdown",
   "metadata": {},
   "source": [
    "# Load Model \n",
    "load the previous (pre-trained) model and weights."
   ]
  },
  {
   "cell_type": "code",
   "execution_count": 13,
   "metadata": {},
   "outputs": [
    {
     "name": "stdout",
     "output_type": "stream",
     "text": [
      "Loaded model from disk\n",
      "10000/10000 [==============================] - 61s    \n",
      "Accuracy: 0.802\n"
     ]
    }
   ],
   "source": [
    "from keras.models import model_from_json\n",
    "\n",
    "# load json and create model\n",
    "json_file = open('keras_model.json', 'r')\n",
    "loaded_model_json = json_file.read()\n",
    "json_file.close()\n",
    "loaded_model = model_from_json(loaded_model_json)\n",
    "\n",
    "# load weights into new model\n",
    "loaded_model.load_weights(\"keras_model.h5\")\n",
    "print(\"Loaded model from disk\")\n",
    "\n",
    "# evaluate loaded model on test data\n",
    "loaded_model.compile(optimizer=Adam(3e-4), loss='categorical_crossentropy', metrics=['accuracy'])\n",
    "score = loaded_model.evaluate(X_test, y_test_categorical, verbose=1)\n",
    "print('Accuracy: %.3f' % scores[1]) # should be the same as above"
   ]
  },
  {
   "cell_type": "markdown",
   "metadata": {},
   "source": [
    "# Keep training ..."
   ]
  },
  {
   "cell_type": "code",
   "execution_count": 14,
   "metadata": {},
   "outputs": [
    {
     "name": "stdout",
     "output_type": "stream",
     "text": [
      "Epoch 1/10\n",
      "765/765 [==============================] - 796s - loss: 0.6829 - acc: 0.7634 - val_loss: 0.5307 - val_acc: 0.8130\n",
      "Epoch 2/10\n",
      "765/765 [==============================] - 818s - loss: 0.6442 - acc: 0.7754 - val_loss: 0.5051 - val_acc: 0.8260\n",
      "Epoch 3/10\n",
      "765/765 [==============================] - 737s - loss: 0.6173 - acc: 0.7851 - val_loss: 0.4992 - val_acc: 0.8230\n",
      "Epoch 4/10\n",
      "765/765 [==============================] - 1833s - loss: 0.5932 - acc: 0.7936 - val_loss: 0.4748 - val_acc: 0.8420\n",
      "Epoch 5/10\n",
      "765/765 [==============================] - 712s - loss: 0.5727 - acc: 0.7999 - val_loss: 0.4478 - val_acc: 0.8570\n",
      "Epoch 6/10\n",
      "765/765 [==============================] - 714s - loss: 0.5534 - acc: 0.8075 - val_loss: 0.4444 - val_acc: 0.8560\n",
      "Epoch 7/10\n",
      "765/765 [==============================] - 814s - loss: 0.5358 - acc: 0.8132 - val_loss: 0.4472 - val_acc: 0.8470\n",
      "Epoch 8/10\n",
      "765/765 [==============================] - 889s - loss: 0.5180 - acc: 0.8196 - val_loss: 0.4559 - val_acc: 0.8460\n",
      "Epoch 9/10\n",
      "765/765 [==============================] - 1288s - loss: 0.5055 - acc: 0.8232 - val_loss: 0.4369 - val_acc: 0.8610\n",
      "Epoch 10/10\n",
      "765/765 [==============================] - 1366s - loss: 0.4913 - acc: 0.8290 - val_loss: 0.4047 - val_acc: 0.8600\n",
      "10000/10000 [==============================] - 128s   \n",
      "Loss: 0.439\n",
      "Accuracy: 0.850\n"
     ]
    }
   ],
   "source": [
    "# Keep training (to see whether it helps improving accuracy)\n",
    "loaded_model.fit_generator(datagen.flow(X, y, batch_size=batch_size),\n",
    "                    steps_per_epoch=X.shape[0] // batch_size,\n",
    "                    epochs=epoch,\n",
    "                    verbose=1,\n",
    "                    validation_data=(X_val,y_val_categorical))\n",
    "# Evaluate the model\n",
    "another_scores = loaded_model.evaluate(X_test, y_test_categorical)\n",
    "\n",
    "print('Loss: %.3f' % another_scores[0])\n",
    "print('Accuracy: %.3f' % another_scores[1])"
   ]
  },
  {
   "cell_type": "markdown",
   "metadata": {},
   "source": [
    "With 20 epochs, I got an 85% accuracy of my model. Let's keep training up to 50 epochs to see the result"
   ]
  },
  {
   "cell_type": "code",
   "execution_count": null,
   "metadata": {
    "collapsed": true
   },
   "outputs": [],
   "source": [
    "\n",
    "\n",
    "# serialize model to JSON\n",
    "model_json = model.to_json()\n",
    "with open(\"keras_model_20epoch.json\", \"w\") as json_file:\n",
    "    json_file.write(model_json)\n",
    "    \n",
    "# serialize weights to HDF5\n",
    "model.save_weights(\"keras_model_20epoch.h5\")\n",
    "print(\"Saved keras_model to disk\")"
   ]
  }
 ],
 "metadata": {
  "kernelspec": {
   "display_name": "Python 3",
   "language": "python",
   "name": "python3"
  },
  "language_info": {
   "codemirror_mode": {
    "name": "ipython",
    "version": 3
   },
   "file_extension": ".py",
   "mimetype": "text/x-python",
   "name": "python",
   "nbconvert_exporter": "python",
   "pygments_lexer": "ipython3",
   "version": "3.6.1"
  }
 },
 "nbformat": 4,
 "nbformat_minor": 2
}
